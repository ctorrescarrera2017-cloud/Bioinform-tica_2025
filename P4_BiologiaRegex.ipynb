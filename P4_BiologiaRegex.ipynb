{
  "cells": [
    {
      "cell_type": "markdown",
      "metadata": {
        "id": "view-in-github",
        "colab_type": "text"
      },
      "source": [
        "<a href=\"https://colab.research.google.com/github/ctorrescarrera2017-cloud/Bioinform-tica_2025/blob/main/P4_BiologiaRegex.ipynb\" target=\"_parent\"><img src=\"https://colab.research.google.com/assets/colab-badge.svg\" alt=\"Open In Colab\"/></a>"
      ]
    },
    {
      "cell_type": "markdown",
      "id": "985e6f9b",
      "metadata": {
        "id": "985e6f9b"
      },
      "source": [
        "# PRACTICA 4\n",
        "\n",
        "### Resuelve los siguientes ejercicios"
      ]
    },
    {
      "cell_type": "markdown",
      "id": "28748e51",
      "metadata": {
        "id": "28748e51"
      },
      "source": [
        "##### 1.- Abre el fichero dna.txt, guarda una lista del contenido del archivo. Devuelve su longitud y su primer caracter"
      ]
    },
    {
      "cell_type": "code",
      "execution_count": 2,
      "id": "88679bbc",
      "metadata": {
        "colab": {
          "base_uri": "https://localhost:8080/"
        },
        "id": "88679bbc",
        "outputId": "5ca570ff-b055-4241-e322-0d39150164f5"
      },
      "outputs": [
        {
          "output_type": "execute_result",
          "data": {
            "text/plain": [
              "123"
            ]
          },
          "metadata": {},
          "execution_count": 2
        }
      ],
      "source": [
        "dna =\"ATCGATCGATCGATCGACTGACTAGTCATAGCTATGCATGTAGCTACTCGATCGATCGATCGATCGATCGATCGATCGATCGATCATGCTATCATCGATCGATATCGATGCATCGACTACTAT\"\n",
        "len(dna)\n"
      ]
    },
    {
      "cell_type": "code",
      "source": [
        "dna[0]"
      ],
      "metadata": {
        "colab": {
          "base_uri": "https://localhost:8080/",
          "height": 35
        },
        "id": "SVjsSHXOg9du",
        "outputId": "df13df0d-ec86-4849-b196-2ce353ec78ce"
      },
      "id": "SVjsSHXOg9du",
      "execution_count": 3,
      "outputs": [
        {
          "output_type": "execute_result",
          "data": {
            "text/plain": [
              "'A'"
            ],
            "application/vnd.google.colaboratory.intrinsic+json": {
              "type": "string"
            }
          },
          "metadata": {},
          "execution_count": 3
        }
      ]
    },
    {
      "cell_type": "markdown",
      "id": "9b87396a",
      "metadata": {
        "id": "9b87396a"
      },
      "source": [
        "##### 2.- Crea dos archivos. Uno almacena los accession que empiezen por 'a' y el otro el resto"
      ]
    },
    {
      "cell_type": "code",
      "execution_count": 4,
      "id": "73957856",
      "metadata": {
        "id": "73957856"
      },
      "outputs": [],
      "source": [
        "accs = ['ab56', 'bh84', 'hv76', 'ay93', 'ap97', 'bd72']"
      ]
    },
    {
      "cell_type": "code",
      "source": [
        "with open ('empiezan_a.txt','w') as archivo_a: # with open estoy abriendo un archivo y con la .w estoy borrando lo último que haya (aunq sea un archivo nuevo) y añadiendo algo nuevo. con \"as\" hago que se cierre al final\n",
        "  with open ('resto.txt','w') as archivo_resto: # estoy creando un archivo que se llama archivo_a que es el que va a contener los elementos que comiencen por la a, y archivo_resto que es el que contiene el resto de elementos.\n",
        "    for acc in accs: #creo un bucle que vaya a analizar todos los elementos de la lista \"accs\"\n",
        "      if acc.lower().startswith('a'): # condicional, si el elemento \"acc\" al que convierto en minúscula por la función .lower(), empieza por la letra 'a', con la función .startswith()\n",
        "        archivo_a.write(acc + '\\n') # si lo encuentra, lo añade al archivo_a gracias a la función .write() y cada vez que añada un elemento nuevo va a hacerlo saltando una linea, gracias a + '\\n'\n",
        "      else:\n",
        "        archivo_resto.write(acc + '\\n') # si no lo encuentra, añade el elemento al archivo_resto igual que antes."
      ],
      "metadata": {
        "id": "Y5QSldVSq4G5"
      },
      "id": "Y5QSldVSq4G5",
      "execution_count": 5,
      "outputs": []
    },
    {
      "cell_type": "markdown",
      "id": "9cbb4adf",
      "metadata": {
        "id": "9cbb4adf"
      },
      "source": [
        "##### 3.- Imprime solamente los accessions de la lista anterior que empiecen por 'a' y no acaben con '6'. Pista: usa endswith() y startswidth()"
      ]
    },
    {
      "cell_type": "code",
      "execution_count": 6,
      "id": "b32ca419",
      "metadata": {
        "colab": {
          "base_uri": "https://localhost:8080/"
        },
        "id": "b32ca419",
        "outputId": "8d4eea3a-6e71-4eb6-aa6d-bf3e60cf36c1"
      },
      "outputs": [
        {
          "output_type": "stream",
          "name": "stdout",
          "text": [
            "ay93\n",
            "ap97\n"
          ]
        }
      ],
      "source": [
        "for acc in accs: # creamos un bucle que recorre todos los elementos de la lista\n",
        "   if acc.startswith('a') and not acc.endswith('6'): #creamos un condicional en el que decimos que si acc empieza por la a y no termina con un 6, se imprima\n",
        "       print(acc)"
      ]
    },
    {
      "cell_type": "markdown",
      "id": "42c397b0",
      "metadata": {
        "id": "42c397b0"
      },
      "source": [
        "##### 4.- Escribe una función que cuente el porcentaje de A de una secuencia"
      ]
    },
    {
      "cell_type": "code",
      "execution_count": 7,
      "id": "da633510",
      "metadata": {
        "id": "da633510"
      },
      "outputs": [],
      "source": [
        "dna= \"agtcgtgcgcgaatgcatgcgtatacacgtcacatgatcgactgtgc\"\n",
        "\n",
        "def porcentaje_A(secuencia):\n",
        "  secuencia = secuencia.upper() # Convertimos todas las letras en mayúsculas\n",
        "  conteo_A = secuencia.count('A') # Cuenta las A de la secuencia\n",
        "  porcentaje_A = (conteo_A/len(secuencia)) *100 # dividimos el conteo de A entre la longitud de la secuencia y lo multiplicamos por 100\n",
        "  return porcentaje_A # si no pongo return, llamo a la función pero no aparece el resultado"
      ]
    },
    {
      "cell_type": "code",
      "source": [
        "porcentaje_A(dna)"
      ],
      "metadata": {
        "colab": {
          "base_uri": "https://localhost:8080/"
        },
        "id": "p5G2D-600kr3",
        "outputId": "f916da6c-9387-474e-a7ff-bbdec5c00c86"
      },
      "id": "p5G2D-600kr3",
      "execution_count": 8,
      "outputs": [
        {
          "output_type": "execute_result",
          "data": {
            "text/plain": [
              "23.404255319148938"
            ]
          },
          "metadata": {},
          "execution_count": 8
        }
      ]
    },
    {
      "cell_type": "markdown",
      "id": "054b8f51",
      "metadata": {
        "id": "054b8f51"
      },
      "source": [
        "##### ¿Puedes hacer que devuelva dos decimales? ¿Y que lidie con mayúsculas y minúsculas?"
      ]
    },
    {
      "cell_type": "code",
      "execution_count": 9,
      "id": "dc1d5907",
      "metadata": {
        "id": "dc1d5907"
      },
      "outputs": [],
      "source": [
        "dna= \"agtcgtgcgcgaatgcatgcgtatacacgtcacatgatcgctgtgc\"\n",
        "\n",
        "def porcentaje_A_decimales(secuencia):\n",
        "  secuencia = secuencia.upper() # Convertimos todas las letras en mayúsculas\n",
        "  conteo_A = secuencia.count('A') # Cuenta las A de la secuencia\n",
        "  porcentaje = (conteo_A / len(secuencia) * 100) # # Calcular porcentaje\n",
        "  round(porcentaje,2) # la función round() redondea y a continuación le digo el número que quiero redondear (porcentaje) Y CUANTOS DECIMALES(2)\n",
        "  return round(porcentaje,2) #para que devuelva el resultado al llamar a la función"
      ]
    },
    {
      "cell_type": "code",
      "source": [
        "porcentaje_A_decimales(dna)"
      ],
      "metadata": {
        "colab": {
          "base_uri": "https://localhost:8080/"
        },
        "id": "dbQjQkL1psH2",
        "outputId": "117e70ab-8cf3-40da-e400-bcf1d711ce08"
      },
      "id": "dbQjQkL1psH2",
      "execution_count": 10,
      "outputs": [
        {
          "output_type": "execute_result",
          "data": {
            "text/plain": [
              "21.74"
            ]
          },
          "metadata": {},
          "execution_count": 10
        }
      ]
    },
    {
      "cell_type": "markdown",
      "id": "36a03b5f",
      "metadata": {
        "id": "36a03b5f"
      },
      "source": [
        "##### ¿Y que devuelva el número de decimales que yo quiero?"
      ]
    },
    {
      "cell_type": "code",
      "execution_count": 11,
      "id": "1ac51951",
      "metadata": {
        "id": "1ac51951"
      },
      "outputs": [],
      "source": [
        "dna= \"agtcgtgcgcgaatgcatgcgtatacacgtcacatgatcgctgtgc\"\n",
        "def porcentaje_A_decimales(secuencia,decimales = 2,redondear = True): #creamos de nuevo la funcion y metemos los tres parámetros de la función: la secuencia, los decimales (q en principio ponemos 2) y redondear= True por si queremos redondear o truncar\n",
        "  secuencia = secuencia.upper() # convertimos toda la secuencia en mayúsculas\n",
        "  conteo_A = secuencia.count('A') #hacemos que cuente las a\n",
        "  porcentaje =(conteo_A/len(secuencia))*100 #calcula el porcentaje de a\n",
        "  if redondear: # abrimos un condicional en el que decimos, si pedimos el redondeo, calcula el redondeo mediante la funcion round(porcentaje,decimales) que va a dividir el num del porcentaje entre los decimales que escojamos al llamar a la función\n",
        "    return round(porcentaje, decimales)\n",
        "  else: # si no pedimos redondear, por ejemplo poniendo redondear =false al llamar a la función, hacemos que trunque\n",
        "    factor = 10**decimales # el factor es la potencia resultante de 10 elevado al número de decimales que escojamos\n",
        "    return int(porcentaje*factor)/factor # pedimos que devuelva el numero integral resultado de multiplicar el porcentaje por el factor y dividirlo por el mismo.\n"
      ]
    },
    {
      "cell_type": "code",
      "source": [
        "print(porcentaje_A_decimales(dna, 3, redondear = True))"
      ],
      "metadata": {
        "colab": {
          "base_uri": "https://localhost:8080/"
        },
        "id": "VtcCX3zvyVUt",
        "outputId": "ca206209-1f13-4eb5-f39c-f240b4cad9e2"
      },
      "id": "VtcCX3zvyVUt",
      "execution_count": 12,
      "outputs": [
        {
          "output_type": "stream",
          "name": "stdout",
          "text": [
            "21.739\n"
          ]
        }
      ]
    },
    {
      "cell_type": "code",
      "source": [
        "print(porcentaje_A_decimales(dna, 2, redondear = False))"
      ],
      "metadata": {
        "colab": {
          "base_uri": "https://localhost:8080/"
        },
        "id": "8_UThEuNyXBe",
        "outputId": "b4af2deb-cdbc-4015-d300-cdeac0ff83fb"
      },
      "id": "8_UThEuNyXBe",
      "execution_count": 14,
      "outputs": [
        {
          "output_type": "stream",
          "name": "stdout",
          "text": [
            "21.73\n"
          ]
        }
      ]
    },
    {
      "cell_type": "markdown",
      "id": "2c811d84",
      "metadata": {
        "id": "2c811d84"
      },
      "source": [
        "##### ¿Sabes poner un valor por defecto en un argumento?"
      ]
    },
    {
      "cell_type": "code",
      "execution_count": 111,
      "id": "60981086",
      "metadata": {
        "id": "60981086"
      },
      "outputs": [],
      "source": [
        "# En la función: def porcentaje_A_decimales(secuencia,decimales = 2,redondear = True): ya hay dos valores por defecto, los decimales y el redondear. Básicamente, estamos diciendo que cuando llamemos a la función y a no ser que lo cambiemos, va a tomar por defecto dos decimales y el redondeo\n",
        "def porcentaje_A_decimales(secuencia,decimales = 2,redondear = True):\n",
        "  secuencia = secuencia.upper()\n",
        "  conteo_A = secuencia.count('A')\n",
        "  porcentaje =(conteo_A/len(secuencia))*100\n",
        "  if redondear:\n",
        "    return round(porcentaje, decimales)\n",
        "  else:\n",
        "    factor = 10**decimales\n",
        "    return int(porcentaje*factor)/factor"
      ]
    },
    {
      "cell_type": "code",
      "source": [
        "# llamamos a la función, y le damos el valor de secuencia pero no el resto porque son valores ya por defecto:\n",
        "porcentaje_A_decimales(dna) #vemos que el resultado contiene ya dos decimales y el redondeo, sin haberselo dicho de nuevo al llamar a la función"
      ],
      "metadata": {
        "colab": {
          "base_uri": "https://localhost:8080/"
        },
        "id": "6O9prS_yoR3V",
        "outputId": "aa3bba27-b4ac-434f-90e7-d7a757704cc4"
      },
      "id": "6O9prS_yoR3V",
      "execution_count": 112,
      "outputs": [
        {
          "output_type": "execute_result",
          "data": {
            "text/plain": [
              "21.74"
            ]
          },
          "metadata": {},
          "execution_count": 112
        }
      ]
    },
    {
      "cell_type": "code",
      "source": [
        "#podemos hacer otro ejemplo con otra función, por ejemplo:\n",
        "def presentacion(variable1 = 'User'): # Estoy diciendo que guarde la función presentación con ese valor por defecto, si no pongo otra cosa, eso es lo que va a salir\n",
        "  print(\"Hello\", variable1)"
      ],
      "metadata": {
        "id": "BDxjL7YXoH60"
      },
      "id": "BDxjL7YXoH60",
      "execution_count": 33,
      "outputs": []
    },
    {
      "cell_type": "code",
      "source": [
        "presentacion()"
      ],
      "metadata": {
        "colab": {
          "base_uri": "https://localhost:8080/"
        },
        "id": "bvnUEAiTl3Da",
        "outputId": "f1cf7b82-7dad-4536-e5a4-ec3ce3c7c1d4"
      },
      "id": "bvnUEAiTl3Da",
      "execution_count": 34,
      "outputs": [
        {
          "output_type": "stream",
          "name": "stdout",
          "text": [
            "Hello User\n"
          ]
        }
      ]
    },
    {
      "cell_type": "code",
      "source": [
        "presentacion(\"Lucia\") #Ahora si que cambio el valor, pero si no lo hago sale el valor por defecto \"User\""
      ],
      "metadata": {
        "colab": {
          "base_uri": "https://localhost:8080/"
        },
        "id": "mvHOlL41m191",
        "outputId": "8db699ac-d3b8-4be2-f4c7-de5e86448e0b"
      },
      "id": "mvHOlL41m191",
      "execution_count": 35,
      "outputs": [
        {
          "output_type": "stream",
          "name": "stdout",
          "text": [
            "Hello Lucia\n"
          ]
        }
      ]
    },
    {
      "cell_type": "markdown",
      "id": "ab2c106c",
      "metadata": {
        "id": "ab2c106c"
      },
      "source": [
        "##### ¿Qué pasa si no ponemos un argumento? ¿Sabrías hacer una función encapsulada?"
      ]
    },
    {
      "cell_type": "code",
      "source": [
        "def saludar():\n",
        "    # Función interna con su propio argumento\n",
        "    def obtener_mensaje(nombre):\n",
        "        return f\"¡Hola, {nombre}!\"\n",
        "\n",
        "    # Llamamos a la función interna pasando un valor\n",
        "    mensaje = obtener_mensaje(\"Juan\")\n",
        "    print(mensaje)"
      ],
      "metadata": {
        "id": "e4zhmTZwrrNg"
      },
      "id": "e4zhmTZwrrNg",
      "execution_count": 109,
      "outputs": []
    },
    {
      "cell_type": "code",
      "source": [
        "saludar()"
      ],
      "metadata": {
        "colab": {
          "base_uri": "https://localhost:8080/"
        },
        "id": "r32cd6NarwkU",
        "outputId": "fb74059f-de37-4d5e-8d99-8ce1d6c53e27"
      },
      "id": "r32cd6NarwkU",
      "execution_count": 110,
      "outputs": [
        {
          "output_type": "stream",
          "name": "stdout",
          "text": [
            "¡Hola, Juan!\n"
          ]
        }
      ]
    },
    {
      "cell_type": "markdown",
      "id": "83af4b0f",
      "metadata": {
        "id": "83af4b0f"
      },
      "source": [
        "##### Testea tu función original con assert"
      ]
    },
    {
      "cell_type": "code",
      "execution_count": 106,
      "id": "2bf31b44",
      "metadata": {
        "id": "2bf31b44"
      },
      "outputs": [],
      "source": [
        "# La función assert sirve para comprobar que nuestra función funciona como debería, por lo tanto indicamos el resultado que nuestra función debería dar en cada caso y assert lo comprueba\n",
        "assert porcentaje_A_decimales('attcacgtcg')== 20\n",
        "assert porcentaje_A_decimales('attcaaacgtcg', decimales= 1, redondear= False)== 33.3\n",
        "assert porcentaje_A_decimales('tcgttgctgtcgtgtc', decimales= 4, redondear= False) == 0.0000"
      ]
    },
    {
      "cell_type": "code",
      "source": [
        "# incluso podemos crear una función que se encargue de evaluar con assert nuestra primers función\n",
        "def test_assert_porcentaje():\n",
        "  assert porcentaje_A_decimales('attcacgtcg')== 20\n",
        "  assert porcentaje_A_decimales('attcaaacgtcg', decimales= 1, redondear= False)== 33.3\n",
        "  assert porcentaje_A_decimales('tcgttgctgtcgtgtc', decimales= 4, redondear= False) == 0.0000\n",
        "  return \"Todo correcto\"\n"
      ],
      "metadata": {
        "id": "jnU8rK00wLE3"
      },
      "id": "jnU8rK00wLE3",
      "execution_count": 107,
      "outputs": []
    },
    {
      "cell_type": "code",
      "source": [
        "test_assert_porcentaje()"
      ],
      "metadata": {
        "colab": {
          "base_uri": "https://localhost:8080/",
          "height": 35
        },
        "id": "tPIXi-0pwlqO",
        "outputId": "2ee8cde8-1d26-4f30-d51e-fae404829808"
      },
      "id": "tPIXi-0pwlqO",
      "execution_count": 108,
      "outputs": [
        {
          "output_type": "execute_result",
          "data": {
            "text/plain": [
              "'Todo correcto'"
            ],
            "application/vnd.google.colaboratory.intrinsic+json": {
              "type": "string"
            }
          },
          "metadata": {},
          "execution_count": 108
        }
      ]
    },
    {
      "cell_type": "markdown",
      "id": "991abaa2",
      "metadata": {
        "id": "991abaa2"
      },
      "source": [
        "#### 5.- De la lista de accessions que se proporciona obtén lo siguiente:\n",
        "1. Los que tengan el número 5\n",
        "2. Los que tengan la letra 'd' o la 'e'\n",
        "3. Los que tengan las letras 'd' y 'e' en ese orden\n",
        "4. Los que tengan las letras 'd' y 'e' en ese orden con una letra cualquiera en medio\n",
        "5. Los que tengan ambas letras 'd' y 'e' en cualquier orden\n",
        "6. Los que empiezan por 'x' o por 'y'\n",
        "7. Los que empiezan por 'x' o 'y' y terminan por 'e'\n",
        "8. Los que tienen tres o más dígitos seguidos\n",
        "9. Los que terminan con 'd' seguidos de 'a' o 'r' o 'p'"
      ]
    },
    {
      "cell_type": "code",
      "execution_count": 61,
      "id": "6388ac75",
      "metadata": {
        "id": "6388ac75"
      },
      "outputs": [],
      "source": [
        "import re"
      ]
    },
    {
      "cell_type": "code",
      "execution_count": 64,
      "id": "d00d3ce7",
      "metadata": {
        "id": "d00d3ce7"
      },
      "outputs": [],
      "source": [
        "accs = ['xkn59438', 'yhdck2', 'eihd39d9', 'chdsye847', 'hedle3455', 'xjhd53e', '45da', 'de37dp']"
      ]
    },
    {
      "cell_type": "code",
      "source": [
        "con_5 = [a for a in accs if \"5\" in a] # a for a in accs es una lista de comprensión, es como decir que cree una lista con los elementos \"a\" de la lista de accs cuando se cumpla que haya un '5' en \"a\"\n",
        "con_5"
      ],
      "metadata": {
        "colab": {
          "base_uri": "https://localhost:8080/"
        },
        "id": "pWOjmNRQykcC",
        "outputId": "ec2981fe-270b-4ded-f3f5-45fb78fb62a8"
      },
      "id": "pWOjmNRQykcC",
      "execution_count": 67,
      "outputs": [
        {
          "output_type": "execute_result",
          "data": {
            "text/plain": [
              "['xkn59438', 'hedle3455', 'xjhd53e', '45da']"
            ]
          },
          "metadata": {},
          "execution_count": 67
        }
      ]
    },
    {
      "cell_type": "code",
      "source": [
        "d_o_e = [a for a in accs if \"d\" in a or \"e\" in a] # igual que en la anterior, pero ahora buscando dos letras\n",
        "d_o_e"
      ],
      "metadata": {
        "colab": {
          "base_uri": "https://localhost:8080/"
        },
        "id": "SoLVp3YVzOgF",
        "outputId": "5ad2312e-1e33-478a-90ce-891a427f8daf"
      },
      "id": "SoLVp3YVzOgF",
      "execution_count": 71,
      "outputs": [
        {
          "output_type": "execute_result",
          "data": {
            "text/plain": [
              "['yhdck2', 'eihd39d9', 'chdsye847', 'hedle3455', 'xjhd53e', '45da', 'de37dp']"
            ]
          },
          "metadata": {},
          "execution_count": 71
        }
      ]
    },
    {
      "cell_type": "code",
      "source": [
        "con_de = [a for a in accs if re.search(r'de',a)] # hay que poner la r para que se puedan leer cualquier carácter y la a al final porque estamos diciendo que tiene que buscar un patrón ('de') dentro de una string (la 'a' de la lista que estamos creando)\n",
        "con_de"
      ],
      "metadata": {
        "colab": {
          "base_uri": "https://localhost:8080/"
        },
        "id": "PO26W_RmzsMJ",
        "outputId": "0e0c228d-d243-49d1-e3c8-40e23ca2e812"
      },
      "id": "PO26W_RmzsMJ",
      "execution_count": 74,
      "outputs": [
        {
          "output_type": "execute_result",
          "data": {
            "text/plain": [
              "['de37dp']"
            ]
          },
          "metadata": {},
          "execution_count": 74
        }
      ]
    },
    {
      "cell_type": "code",
      "source": [
        "d_letra_e =[ a for a in accs if re.search(r'd.e',a)] # el . siginifica \"un carácter cualquiera\"\n",
        "d_letra_e\n"
      ],
      "metadata": {
        "colab": {
          "base_uri": "https://localhost:8080/"
        },
        "id": "8sKBu7670200",
        "outputId": "dd416844-52fd-4516-a867-79534e33ecf6"
      },
      "id": "8sKBu7670200",
      "execution_count": 79,
      "outputs": [
        {
          "output_type": "execute_result",
          "data": {
            "text/plain": [
              "['hedle3455']"
            ]
          },
          "metadata": {},
          "execution_count": 79
        }
      ]
    },
    {
      "cell_type": "code",
      "source": [
        "d_y_e = [a for a in accs if \"d\" in a and \"e\" in a]\n",
        "d_y_e\n"
      ],
      "metadata": {
        "colab": {
          "base_uri": "https://localhost:8080/"
        },
        "id": "ncDXBtWL1lnE",
        "outputId": "712b0cab-8c07-43c2-9a1f-741d8e514dc7"
      },
      "id": "ncDXBtWL1lnE",
      "execution_count": 83,
      "outputs": [
        {
          "output_type": "execute_result",
          "data": {
            "text/plain": [
              "['eihd39d9', 'chdsye847', 'hedle3455', 'xjhd53e', 'de37dp']"
            ]
          },
          "metadata": {},
          "execution_count": 83
        }
      ]
    },
    {
      "cell_type": "code",
      "source": [
        "comienzan_x_o_y = [a for a in accs if a.startswith((\"x\", \"y\"))] # la función startswith() es un valor booleano, sirve para determinar True o False, es decir, a.startswith('x') va a ser true o false si 'a' empieza con x. a se añade a la lista si startswith() es True, si no se ignora.\n",
        "print(comienzan_x_o_y)"
      ],
      "metadata": {
        "colab": {
          "base_uri": "https://localhost:8080/"
        },
        "id": "EKDdhyCZ2E7_",
        "outputId": "46f22df7-0a56-4819-8c55-502648ebba8c"
      },
      "id": "EKDdhyCZ2E7_",
      "execution_count": 92,
      "outputs": [
        {
          "output_type": "stream",
          "name": "stdout",
          "text": [
            "['xkn59438', 'yhdck2', 'xjhd53e']\n"
          ]
        }
      ]
    },
    {
      "cell_type": "code",
      "source": [
        "con_xoy_terminan_e = [a for a in accs if a.startswith((\"x\", \"y\")) and a.endswith('e')]\n",
        "con_xoy_terminan_e"
      ],
      "metadata": {
        "colab": {
          "base_uri": "https://localhost:8080/"
        },
        "id": "LefaAndl2cVc",
        "outputId": "33c23eeb-0200-4ea8-f98a-e58c4d01ed66"
      },
      "id": "LefaAndl2cVc",
      "execution_count": 97,
      "outputs": [
        {
          "output_type": "execute_result",
          "data": {
            "text/plain": [
              "['xjhd53e']"
            ]
          },
          "metadata": {},
          "execution_count": 97
        }
      ]
    },
    {
      "cell_type": "code",
      "source": [
        "tres_digitos= [a for a in accs if re.search(r'\\d{3,}',a)] # \\d quiere decir \"digito cualquiera\" y {3,} \"que se repita 3 veces minimo\"\n",
        "print(tres_digitos)"
      ],
      "metadata": {
        "colab": {
          "base_uri": "https://localhost:8080/"
        },
        "id": "6q7en3Xi5y85",
        "outputId": "77119b7b-06d4-44db-816d-61bbdc4665db"
      },
      "id": "6q7en3Xi5y85",
      "execution_count": 102,
      "outputs": [
        {
          "output_type": "stream",
          "name": "stdout",
          "text": [
            "['xkn59438', 'chdsye847', 'hedle3455']\n"
          ]
        }
      ]
    },
    {
      "cell_type": "code",
      "source": [
        "d_a_r_p= [a for a in accs if re.search(r'd[arp]$',a)] #[arp] quiere decir cualquiera de las letras y $ quiere decir final de cadena\n",
        "d_a_r_p"
      ],
      "metadata": {
        "colab": {
          "base_uri": "https://localhost:8080/"
        },
        "id": "WgJ8c7e78jvH",
        "outputId": "11efe1b3-bee0-483c-b115-beeb477d0520"
      },
      "id": "WgJ8c7e78jvH",
      "execution_count": 105,
      "outputs": [
        {
          "output_type": "execute_result",
          "data": {
            "text/plain": [
              "['45da', 'de37dp']"
            ]
          },
          "metadata": {},
          "execution_count": 105
        }
      ]
    }
  ],
  "metadata": {
    "kernelspec": {
      "display_name": "Python [conda env:base] *",
      "language": "python",
      "name": "conda-base-py"
    },
    "language_info": {
      "codemirror_mode": {
        "name": "ipython",
        "version": 3
      },
      "file_extension": ".py",
      "mimetype": "text/x-python",
      "name": "python",
      "nbconvert_exporter": "python",
      "pygments_lexer": "ipython3",
      "version": "3.12.7"
    },
    "colab": {
      "provenance": [],
      "include_colab_link": true
    }
  },
  "nbformat": 4,
  "nbformat_minor": 5
}